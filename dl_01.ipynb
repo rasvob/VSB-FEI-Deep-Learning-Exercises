{
 "cells": [
  {
   "cell_type": "markdown",
   "metadata": {
    "id": "8z4lsdTXjdMG"
   },
   "source": [
    "# Deep Learning - Exercise 1\n",
    "This lecture is about basics of the Tensorflow, we will discuss the minimal example on the MNIST dataset.\n",
    "\n",
    "We also investigate a meaning of the validation sets and different complexity of the model. \n",
    "\n",
    "Moreover, we will look on the regulariozation and we will try to find optimal model for the MNIST dataset that is based on fully connected layers."
   ]
  },
  {
   "cell_type": "markdown",
   "metadata": {
    "tags": []
   },
   "source": [
    "![meme01](https://github.com/rasvob/VSB-FEI-Deep-Learning-Exercises/blob/main/images/dl_meme_01.jpg?raw=true \"AI Meme\")"
   ]
  },
  {
   "cell_type": "markdown",
   "metadata": {
    "id": "SCXkXCkBjdMH"
   },
   "source": [
    "[Open in Google colab](https://colab.research.google.com/github/rasvob/VSB-FEI-Deep-Learning-Exercises/blob/master/dl_01.ipynb)\n",
    "[Download from Github](https://github.com/rasvob/VSB-FEI-Deep-Learning-Exercises/blob/master/dl_01.ipynb)\n",
    "\n",
    "##### Remember to set **GPU** runtime in Colab!"
   ]
  },
  {
   "cell_type": "markdown",
   "metadata": {
    "id": "vGYmu2RCjdMH"
   },
   "source": [
    "### Import of the TensorFlow\n",
    "The main version of the TensorFlow (TF) is a in the Version package in the field VERSION\n",
    "Since the TensformFlow 2.0 everything was encapsulaed under the KERAS api."
   ]
  },
  {
   "cell_type": "code",
   "execution_count": 1,
   "metadata": {
    "id": "I798rQYbjdMI",
    "tags": []
   },
   "outputs": [
    {
     "name": "stderr",
     "output_type": "stream",
     "text": [
      "2023-02-28 12:16:38.203799: I tensorflow/core/platform/cpu_feature_guard.cc:193] This TensorFlow binary is optimized with oneAPI Deep Neural Network Library (oneDNN) to use the following CPU instructions in performance-critical operations:  AVX2 FMA\n",
      "To enable them in other operations, rebuild TensorFlow with the appropriate compiler flags.\n",
      "2023-02-28 12:16:39.149908: W tensorflow/compiler/xla/stream_executor/platform/default/dso_loader.cc:64] Could not load dynamic library 'libnvinfer.so.7'; dlerror: libnvinfer.so.7: cannot open shared object file: No such file or directory\n",
      "2023-02-28 12:16:39.149996: W tensorflow/compiler/xla/stream_executor/platform/default/dso_loader.cc:64] Could not load dynamic library 'libnvinfer_plugin.so.7'; dlerror: libnvinfer_plugin.so.7: cannot open shared object file: No such file or directory\n",
      "2023-02-28 12:16:39.150005: W tensorflow/compiler/tf2tensorrt/utils/py_utils.cc:38] TF-TRT Warning: Cannot dlopen some TensorRT libraries. If you would like to use Nvidia GPU with TensorRT, please make sure the missing libraries mentioned above are installed properly.\n"
     ]
    },
    {
     "data": {
      "text/plain": [
       "'2.11.0'"
      ]
     },
     "execution_count": 1,
     "metadata": {},
     "output_type": "execute_result"
    }
   ],
   "source": [
    "import tensorflow as tf\n",
    "import tensorflow.keras as keras\n",
    "import numpy as np\n",
    "import pandas as pd\n",
    "import matplotlib.pyplot as plt\n",
    "from sklearn.tree import DecisionTreeClassifier\n",
    "from sklearn.linear_model import RidgeClassifier\n",
    "from sklearn.metrics import accuracy_score\n",
    "\n",
    "tf.version.VERSION"
   ]
  },
  {
   "cell_type": "markdown",
   "metadata": {
    "id": "LWDIlb9UjdMI"
   },
   "source": [
    "### Import a dataset\n",
    "Datasets are stored in the keras.datasets submodule. Few testing datasets are stored here and installed together with the TF package"
   ]
  },
  {
   "cell_type": "code",
   "execution_count": 2,
   "metadata": {
    "id": "OK0bAkspjdMI",
    "tags": []
   },
   "outputs": [
    {
     "name": "stdout",
     "output_type": "stream",
     "text": [
      "Train data shape:  (60000, 28, 28)\n",
      "Test data shape:   (10000, 28, 28)\n"
     ]
    }
   ],
   "source": [
    "# mnist is the basic dataset with handwritten digits\n",
    "mnist = tf.keras.datasets.mnist\n",
    "\n",
    "# data from any dataset are loaded using the load_Data function\n",
    "(x_train, y_train), (x_test, y_test) = mnist.load_data()\n",
    "\n",
    "# the data are in the form of 28x28 pixes with values 0-255.\n",
    "print('Train data shape: ', x_train.shape)\n",
    "print('Test data shape:  ', x_test.shape)"
   ]
  },
  {
   "cell_type": "markdown",
   "metadata": {
    "id": "7jRqCq9jklBE"
   },
   "source": [
    "The dataset consists of 60,000 training images and 10,000 testing images. All of the are 28x28 pixels. "
   ]
  },
  {
   "cell_type": "markdown",
   "metadata": {
    "id": "ACxVYmJGjdMI"
   },
   "source": [
    "### Lets look on the data how do they look like.\n",
    "Look closely on the value scale - it os from 0 to 255 as usual in grayscale  images."
   ]
  },
  {
   "cell_type": "markdown",
   "metadata": {},
   "source": [
    "### We can see that the numbers are already centered - you won't see this feature in the real world images often 🙂\n",
    "Some of the images are quite easy to classify but on the other hand there is a lot of noise in the data as well.\n",
    "\n",
    "Take a look at these two examples below? The 1st one is clear, but the 2nd one is 1 or 7?"
   ]
  },
  {
   "cell_type": "code",
   "execution_count": 3,
   "metadata": {
    "id": "OZaKJJf3jdMJ",
    "tags": []
   },
   "outputs": [
    {
     "data": {
      "image/png": "[encoded data removed]",
      "text/plain": [
       "<Figure size 640x480 with 2 Axes>"
      ]
     },
     "metadata": {},
     "output_type": "display_data"
    }
   ],
   "source": [
    "plt.figure()\n",
    "plt.imshow(x_train[12])\n",
    "plt.colorbar()\n",
    "plt.grid(False)\n",
    "plt.show()"
   ]
  },
  {
   "cell_type": "code",
   "execution_count": 4,
   "metadata": {
    "id": "OZaKJJf3jdMJ",
    "tags": []
   },
   "outputs": [
    {
     "data": {
      "image/png": "[encoded data removed]",
      "text/plain": [
       "<Figure size 640x480 with 2 Axes>"
      ]
     },
     "metadata": {},
     "output_type": "display_data"
    }
   ],
   "source": [
    "plt.figure()\n",
    "plt.imshow(x_train[42])\n",
    "plt.colorbar()\n",
    "plt.grid(False)\n",
    "plt.show()"
   ]
  },
  {
   "cell_type": "markdown",
   "metadata": {
    "id": "7Z_rfPvrjdMJ"
   },
   "source": [
    "### The conversion into range 0-1 is done by the division\n",
    "* Lets normalize the values into the range \\(0,1\\) by dividing it 255.\n",
    "\n",
    "* Why is this step helpful? (Hint: input magnitude and weights)"
   ]
  },
  {
   "cell_type": "code",
   "execution_count": 5,
   "metadata": {
    "id": "hCNrX5rqjdMJ",
    "tags": []
   },
   "outputs": [],
   "source": [
    "# The conversion into range 0-1 is done by the division\n",
    "x_train, x_test = x_train / 255.0, x_test / 255.0"
   ]
  },
  {
   "cell_type": "markdown",
   "metadata": {
    "id": "tyhe6lUKjdMJ"
   },
   "source": [
    "### Make better visualization of the data to better understand how complex they are\n",
    "* You can see that \"noisy\" digit and different handwriting style is really no exception"
   ]
  },
  {
   "cell_type": "code",
   "execution_count": 6,
   "metadata": {
    "id": "dIf8LNL7jdMJ",
    "tags": []
   },
   "outputs": [
    {
     "data": {
      "image/png": "[encoded data removed]",
      "text/plain": [
       "<Figure size 1000x1000 with 25 Axes>"
      ]
     },
     "metadata": {},
     "output_type": "display_data"
    }
   ],
   "source": [
    "class_names = [str(x) for x in range(10)]\n",
    "\n",
    "plt.figure(figsize=(10,10))\n",
    "for i in range(25):\n",
    "    plt.subplot(5,5,i+1)\n",
    "    plt.xticks([])\n",
    "    plt.yticks([])\n",
    "    plt.grid(False)\n",
    "    plt.imshow(x_train[i], cmap=plt.cm.binary)\n",
    "    plt.xlabel(class_names[y_train[i]])\n",
    "plt.show()"
   ]
  },
  {
   "cell_type": "markdown",
   "metadata": {},
   "source": [
    "## Before we dive in the deep learning territory, let's try to create some baseline model using a machine learning model so we can compare the approaches\n",
    "* Are ML models capable of processing image data?\n",
    "* How to deal with a matrix input?"
   ]
  },
  {
   "cell_type": "code",
   "execution_count": 7,
   "metadata": {
    "tags": []
   },
   "outputs": [
    {
     "data": {
      "text/html": [
       "<style>#sk-container-id-1 {color: black;background-color: white;}#sk-container-id-1 pre{padding: 0;}#sk-container-id-1 div.sk-toggleable {background-color: white;}#sk-container-id-1 label.sk-toggleable__label {cursor: pointer;display: block;width: 100%;margin-bottom: 0;padding: 0.3em;box-sizing: border-box;text-align: center;}#sk-container-id-1 label.sk-toggleable__label-arrow:before {content: \"▸\";float: left;margin-right: 0.25em;color: #696969;}#sk-container-id-1 label.sk-toggleable__label-arrow:hover:before {color: black;}#sk-container-id-1 div.sk-estimator:hover label.sk-toggleable__label-arrow:before {color: black;}#sk-container-id-1 div.sk-toggleable__content {max-height: 0;max-width: 0;overflow: hidden;text-align: left;background-color: #f0f8ff;}#sk-container-id-1 div.sk-toggleable__content pre {margin: 0.2em;color: black;border-radius: 0.25em;background-color: #f0f8ff;}#sk-container-id-1 input.sk-toggleable__control:checked~div.sk-toggleable__content {max-height: 200px;max-width: 100%;overflow: auto;}#sk-container-id-1 input.sk-toggleable__control:checked~label.sk-toggleable__label-arrow:before {content: \"▾\";}#sk-container-id-1 div.sk-estimator input.sk-toggleable__control:checked~label.sk-toggleable__label {background-color: #d4ebff;}#sk-container-id-1 div.sk-label input.sk-toggleable__control:checked~label.sk-toggleable__label {background-color: #d4ebff;}#sk-container-id-1 input.sk-hidden--visually {border: 0;clip: rect(1px 1px 1px 1px);clip: rect(1px, 1px, 1px, 1px);height: 1px;margin: -1px;overflow: hidden;padding: 0;position: absolute;width: 1px;}#sk-container-id-1 div.sk-estimator {font-family: monospace;background-color: #f0f8ff;border: 1px dotted black;border-radius: 0.25em;box-sizing: border-box;margin-bottom: 0.5em;}#sk-container-id-1 div.sk-estimator:hover {background-color: #d4ebff;}#sk-container-id-1 div.sk-parallel-item::after {content: \"\";width: 100%;border-bottom: 1px solid gray;flex-grow: 1;}#sk-container-id-1 div.sk-label:hover label.sk-toggleable__label {background-color: #d4ebff;}#sk-container-id-1 div.sk-serial::before {content: \"\";position: absolute;border-left: 1px solid gray;box-sizing: border-box;top: 0;bottom: 0;left: 50%;z-index: 0;}#sk-container-id-1 div.sk-serial {display: flex;flex-direction: column;align-items: center;background-color: white;padding-right: 0.2em;padding-left: 0.2em;position: relative;}#sk-container-id-1 div.sk-item {position: relative;z-index: 1;}#sk-container-id-1 div.sk-parallel {display: flex;align-items: stretch;justify-content: center;background-color: white;position: relative;}#sk-container-id-1 div.sk-item::before, #sk-container-id-1 div.sk-parallel-item::before {content: \"\";position: absolute;border-left: 1px solid gray;box-sizing: border-box;top: 0;bottom: 0;left: 50%;z-index: -1;}#sk-container-id-1 div.sk-parallel-item {display: flex;flex-direction: column;z-index: 1;position: relative;background-color: white;}#sk-container-id-1 div.sk-parallel-item:first-child::after {align-self: flex-end;width: 50%;}#sk-container-id-1 div.sk-parallel-item:last-child::after {align-self: flex-start;width: 50%;}#sk-container-id-1 div.sk-parallel-item:only-child::after {width: 0;}#sk-container-id-1 div.sk-dashed-wrapped {border: 1px dashed gray;margin: 0 0.4em 0.5em 0.4em;box-sizing: border-box;padding-bottom: 0.4em;background-color: white;}#sk-container-id-1 div.sk-label label {font-family: monospace;font-weight: bold;display: inline-block;line-height: 1.2em;}#sk-container-id-1 div.sk-label-container {text-align: center;}#sk-container-id-1 div.sk-container {/* jupyter's `normalize.less` sets `[hidden] { display: none; }` but bootstrap.min.css set `[hidden] { display: none !important; }` so we also need the `!important` here to be able to override the default hidden behavior on the sphinx rendered scikit-learn.org. See: https://github.com/scikit-learn/scikit-learn/issues/21755 */display: inline-block !important;position: relative;}#sk-container-id-1 div.sk-text-repr-fallback {display: none;}</style><div id=\"sk-container-id-1\" class=\"sk-top-container\"><div class=\"sk-text-repr-fallback\"><pre>DecisionTreeClassifier()</pre><b>In a Jupyter environment, please rerun this cell to show the HTML representation or trust the notebook. <br />On GitHub, the HTML representation is unable to render, please try loading this page with nbviewer.org.</b></div><div class=\"sk-container\" hidden><div class=\"sk-item\"><div class=\"sk-estimator sk-toggleable\"><input class=\"sk-toggleable__control sk-hidden--visually\" id=\"sk-estimator-id-1\" type=\"checkbox\" checked><label for=\"sk-estimator-id-1\" class=\"sk-toggleable__label sk-toggleable__label-arrow\">DecisionTreeClassifier</label><div class=\"sk-toggleable__content\"><pre>DecisionTreeClassifier()</pre></div></div></div></div></div>"
      ],
      "text/plain": [
       "DecisionTreeClassifier()"
      ]
     },
     "execution_count": 7,
     "metadata": {},
     "output_type": "execute_result"
    }
   ],
   "source": [
    "alg = DecisionTreeClassifier()\n",
    "alg.fit(x_train.reshape(-1, 28*28), y_train)"
   ]
  },
  {
   "cell_type": "code",
   "execution_count": 8,
   "metadata": {
    "tags": []
   },
   "outputs": [],
   "source": [
    "y_pred = alg.predict(x_test.reshape(-1, 28*28))"
   ]
  },
  {
   "cell_type": "code",
   "execution_count": 9,
   "metadata": {
    "tags": []
   },
   "outputs": [
    {
     "data": {
      "text/plain": [
       "array([7, 2, 1, ..., 4, 5, 6], dtype=uint8)"
      ]
     },
     "execution_count": 9,
     "metadata": {},
     "output_type": "execute_result"
    }
   ],
   "source": [
    "y_pred"
   ]
  },
  {
   "cell_type": "code",
   "execution_count": 10,
   "metadata": {
    "tags": []
   },
   "outputs": [
    {
     "data": {
      "text/plain": [
       "0.8735"
      ]
     },
     "execution_count": 10,
     "metadata": {},
     "output_type": "execute_result"
    }
   ],
   "source": [
    "accuracy_score(y_true=y_test, y_pred=y_pred)"
   ]
  },
  {
   "cell_type": "markdown",
   "metadata": {},
   "source": [
    "### We can see that we were able to create a classifier very easily.\n",
    "* However it is no secret, that DL models accuracy on MNIST can be >= 98% even with simple architecture\n",
    "* Given the fact, our result is not very impresive 🙂"
   ]
  },
  {
   "cell_type": "markdown",
   "metadata": {
    "id": "H3uY8cfbjdMJ"
   },
   "source": [
    "## Basic model - a NN with very simple hierarchy\n",
    "* Model is created using layers, many layers exists in the [layer submodule](https://www.tensorflow.org/api_docs/python/tf/keras/layers)\n",
    "* Each layer uses a activation functions collected in the [module nn](https://www.tensorflow.org/api_docs/python/tf/nn)\n",
    " \n",
    "#### There are 2 ways of using the Keras API, Sequential and Functional, we will start with the sequential one\n",
    "\n",
    "* Why do we use activation functions?\n",
    "* How is ANN different from lin. regression?\n",
    "\n",
    "## Let's design our first ANN\n",
    "* Can you draw such network on a table?"
   ]
  },
  {
   "cell_type": "code",
   "execution_count": 12,
   "metadata": {
    "id": "4FRfWkocjdMK",
    "tags": []
   },
   "outputs": [
    {
     "name": "stdout",
     "output_type": "stream",
     "text": [
      "Model: \"sequential_1\"\n",
      "_________________________________________________________________\n",
      " Layer (type)                Output Shape              Param #   \n",
      "=================================================================\n",
      " flatten_1 (Flatten)         (None, 784)               0         \n",
      "                                                                 \n",
      " dense_2 (Dense)             (None, 32)                25120     \n",
      "                                                                 \n",
      " dense_3 (Dense)             (None, 10)                330       \n",
      "                                                                 \n",
      "=================================================================\n",
      "Total params: 25,450\n",
      "Trainable params: 25,450\n",
      "Non-trainable params: 0\n",
      "_________________________________________________________________\n"
     ]
    }
   ],
   "source": [
    "model = keras.Sequential([\n",
    "    keras.layers.Flatten(input_shape=(28, 28)),# Flatten module flatten the multidimension input into single vector 28x28 = 784 float numbers\n",
    "    keras.layers.Dense(32, activation=tf.nn.relu), # standard dense-fully connected layer with the rectified lineaar function as an activation\n",
    "    keras.layers.Dense(10, activation=tf.nn.softmax), # another fully-connected layer with softmax activation function\n",
    "])\n",
    "\n",
    "model.summary() # prints the summary of the model"
   ]
  },
  {
   "cell_type": "markdown",
   "metadata": {},
   "source": [
    "### What is the meaning of the *Total params* number?"
   ]
  },
  {
   "cell_type": "markdown",
   "metadata": {
    "id": "XxkeKMLdjdMK"
   },
   "source": [
    "### Compilation of the model\n",
    "Each model need to be compiled to be able to fit to the data and predict the labels\n",
    "\n",
    "#### Optimizers\n",
    "\n",
    "* There are many optimizers available, you can experiment with different algorithms, most of them are based on gradient descent algorithm\n",
    "* And of course gradient descent is not a limit, gradient-free methods are available as well, e.g. [Nevergrad library by META](https://github.com/facebookresearch/nevergrad)\n",
    "\n",
    "**Selected optimizers:**\n",
    "* Gradient descent\n",
    "   * Works for the whole dataset and it is not suitable for large data\n",
    "* Stochastic Gradiend Descent (SGD)\n",
    "   * Approximate the real gradiend from selested subset of data (Stochasticity)\n",
    "* Root Mean Square Propagation (RMSPRop)\n",
    "   * Adapts the learnign rate with the running average of the recent gradients.\n",
    "* Adamptive Moment Estimation (ADAM)\n",
    "   * Averages gradients and secodn moment of the gradient and adapts the learning rate.\n",
    "\n",
    "#### Loss functions\n",
    "**Training of the ANN is about weights optimization. We need to some formula that says us if the optimization process is making the ANN better or not.**\n",
    "\n",
    "**The choice of a loss function depends on tha task and network architecture. Below are the most common loss functions mentioned.**\n",
    "\n",
    "* Mean Squared Error\n",
    "   * a classical measure to be used in regression\n",
    "   * a logarithmic version exists\n",
    "* Mean Absolute Error (MAE)\n",
    "   * take an absolute values instead of their squared version\n",
    "* Binary classification Loss\n",
    "   * a loss for binary problems only\n",
    "   * predicts the probability of the class 1\n",
    "* Binary Cross-Entropy\n",
    "   * predict the class from the set {0,1}\n",
    "   * requires a sigmoind activation function\n",
    "* Categorical Cross-Entropy\n",
    "   * default for mutli-class classification problems\n",
    "   * requires the softmax function on output layer to compute probability of each layer\n",
    "   * train labels have to be one-hot-encoded\n",
    "* Sparse Categorical Cross-Entropy\n",
    "   * the same as above but the tran lables are just labels not encoded.\n",
    "\n",
    "#### Metrics\n",
    "**Used metrics for the model prediction accuracy evaluation are the same as in the ML area, i.e. accuracy, f1-score, recall, etc. The choice depends on the task and the labels distribution.**\n",
    "\n",
    "### Do you remember in which cases is the *accuracy* metric not a best choice? Which metrics are more suitable for these cases?\n",
    "\n",
    "* Regression metrics\n",
    "   * Mean Squared Error (MSE)\n",
    "   * Mean Absolute Error (MAE)\n",
    "   * Mean Absolute Percentage Error (MAPE)\n",
    "* Classification metrics\n",
    "   * Binary Accuracy\n",
    "   * Categorical Accuracy\n",
    "   * Sparse Categorical Accuracy\n",
    "   * Top k Categorical Accuracy\n",
    "   * Sparse Top k Categorical Accuracy\n",
    "   * Accuracy - a general version that is modified based on the data analyzed autmatically"
   ]
  },
  {
   "cell_type": "markdown",
   "metadata": {},
   "source": [
    "## We can compile the model now, we will use the accuracy metric\n",
    "* Why do we use SparseCategoricalCrossentropy? What is from_logits parameter?\n",
    "\n",
    "* SparseCategoricalCrossentropy = We expect labels to be provided as integers.\n",
    "\n",
    "The output of the Dense layer will either return:\n",
    "* probabilities: The output is passed through a SoftMax function which normalizes the output into a set of probabilities over n, that all add up to 1.\n",
    "* logits: n activations.\n",
    "\n",
    "Your loss function has to be informed as to whether it should expect a normalized distribution (output passed through a SoftMax function) or logits. \n",
    "If your output layer has a 'softmax' activation, from_logits should be False. If your output layer doesn't have a 'softmax' activation, from_logits should be True."
   ]
  },
  {
   "cell_type": "code",
   "execution_count": 13,
   "metadata": {
    "id": "1rh03ZvLjdMK",
    "tags": []
   },
   "outputs": [],
   "source": [
    "model.compile(optimizer='adam',\n",
    "    loss = keras.losses.SparseCategoricalCrossentropy(from_logits=False),\n",
    "    metrics = ['accuracy'],\n",
    "    )"
   ]
  },
  {
   "cell_type": "markdown",
   "metadata": {
    "id": "lA09suMrjdMK"
   },
   "source": [
    "### Model visualization\n",
    "Model then compiles and it is ready for fitting to the data. \n",
    "\n",
    "The model may be printed into image like the following image of our model:\n",
    "\n",
    "<!-- ![model](https://github.com/jplatos/2019-2020-DA4/raw/master/images/da4_01_base.png \"Base model of the neural network\") -->"
   ]
  },
  {
   "cell_type": "code",
   "execution_count": 20,
   "metadata": {
    "id": "RAKg-e-OjdML",
    "tags": []
   },
   "outputs": [
    {
     "data": {
      "image/png": "[encoded data removed]",
      "text/plain": [
       "<IPython.core.display.Image object>"
      ]
     },
     "execution_count": 20,
     "metadata": {},
     "output_type": "execute_result"
    }
   ],
   "source": [
    "keras.utils.plot_model(model, show_shapes=True)"
   ]
  },
  {
   "cell_type": "markdown",
   "metadata": {
    "id": "An4hyfD7jdML"
   },
   "source": [
    "# Now we can fit the model to the input data\n",
    "* The *fit()* method fit the model to the data, the parameters are *data* and *labels* from the train set and number of *epoch* to be trained.\n",
    "* The *validation_split* parameter is also very common. What does the parameter do?\n",
    "    * What is the validation set? How is it different from the test set?\n",
    "\n",
    "## FAQ section 🙂\n",
    "* How does the ANN training procedure look like?\n",
    "* What is the *epoch*?\n",
    "* What is the *batch*?\n",
    "* Why do we use batches? \n",
    "    * Is possible to have batch of size *len(data)* or os size *1*? \n",
    "    * What are caveates of these cases?\n",
    "\n",
    "\n"
   ]
  },
  {
   "cell_type": "markdown",
   "metadata": {},
   "source": [
    "# Define the callbacks\n",
    "* Always use ModelCheckpoint callback so you overcome the possible overfitting in the last few epochs!\n",
    "### The .fit() API is pretty powerful\n",
    "- It is common to use some sort of a callback, we will use ModelCheckpoint callback which saves the best weights configuration obtained during training so the overfitting at the final phase of training will be suppressed\n",
    "\n",
    "- **The best weights are determined using the validation loss value**"
   ]
  },
  {
   "cell_type": "code",
   "execution_count": 21,
   "metadata": {
    "id": "NUzeNn2JjdML",
    "tags": []
   },
   "outputs": [],
   "source": [
    "model_checkpoint_callback = tf.keras.callbacks.ModelCheckpoint(\n",
    "    filepath='weights.best.hdf5',\n",
    "    save_weights_only=True,\n",
    "    monitor='val_loss',\n",
    "    mode='auto',\n",
    "    save_best_only=True)"
   ]
  },
  {
   "cell_type": "markdown",
   "metadata": {},
   "source": [
    "# Fit the model"
   ]
  },
  {
   "cell_type": "code",
   "execution_count": 22,
   "metadata": {
    "id": "ixodDENSjdML",
    "tags": []
   },
   "outputs": [
    {
     "name": "stdout",
     "output_type": "stream",
     "text": [
      "Epoch 1/3\n"
     ]
    },
    {
     "name": "stderr",
     "output_type": "stream",
     "text": [
      "2023-02-28 12:31:10.254073: I tensorflow/compiler/xla/service/service.cc:173] XLA service 0x7f6d7376ccc0 initialized for platform CUDA (this does not guarantee that XLA will be used). Devices:\n",
      "2023-02-28 12:31:10.254141: I tensorflow/compiler/xla/service/service.cc:181]   StreamExecutor device (0): NVIDIA GeForce GTX 1070, Compute Capability 6.1\n",
      "2023-02-28 12:31:10.254151: I tensorflow/compiler/xla/service/service.cc:181]   StreamExecutor device (1): NVIDIA GeForce GTX 1070, Compute Capability 6.1\n",
      "2023-02-28 12:31:10.254158: I tensorflow/compiler/xla/service/service.cc:181]   StreamExecutor device (2): NVIDIA GeForce GTX 1070, Compute Capability 6.1\n",
      "2023-02-28 12:31:10.254166: I tensorflow/compiler/xla/service/service.cc:181]   StreamExecutor device (3): NVIDIA GeForce GTX 1070, Compute Capability 6.1\n",
      "2023-02-28 12:31:10.261345: I tensorflow/compiler/mlir/tensorflow/utils/dump_mlir_util.cc:268] disabling MLIR crash reproducer, set env var `MLIR_CRASH_REPRODUCER_DIRECTORY` to enable.\n",
      "2023-02-28 12:31:10.411958: I tensorflow/tsl/platform/default/subprocess.cc:304] Start cannot spawn child process: No such file or directory\n",
      "2023-02-28 12:31:10.587072: I tensorflow/compiler/jit/xla_compilation_cache.cc:477] Compiled cluster using XLA!  This line is logged at most once for the lifetime of the process.\n"
     ]
    },
    {
     "name": "stdout",
     "output_type": "stream",
     "text": [
      "375/375 [==============================] - 6s 5ms/step - loss: 0.5478 - accuracy: 0.8565 - val_loss: 0.2965 - val_accuracy: 0.9183\n",
      "Epoch 2/3\n",
      "375/375 [==============================] - 2s 4ms/step - loss: 0.2821 - accuracy: 0.9196 - val_loss: 0.2457 - val_accuracy: 0.9327\n",
      "Epoch 3/3\n",
      "375/375 [==============================] - 2s 4ms/step - loss: 0.2371 - accuracy: 0.9327 - val_loss: 0.2139 - val_accuracy: 0.9405\n"
     ]
    }
   ],
   "source": [
    "history = model.fit(x_train, y_train, validation_split=0.2, epochs=3, callbacks=[model_checkpoint_callback], batch_size=128)"
   ]
  },
  {
   "cell_type": "markdown",
   "metadata": {
    "tags": []
   },
   "source": [
    "# Let's take a look at the accuracy and loss function values for both - the train and validation set\n",
    "* What can you see in the plot?\n",
    "* Is OK that loss is getting lower and accuracy higher?\n",
    "    * Can the loss function value go higher? \n",
    "* What if the training set loss is getting lower, but validation set loss higher? \n",
    "    * How do we call this situation?"
   ]
  },
  {
   "cell_type": "code",
   "execution_count": 25,
   "metadata": {
    "id": "Wj3duiFljdML",
    "tags": []
   },
   "outputs": [
    {
     "data": {
      "image/png": "[encoded data removed]",
      "text/plain": [
       "<Figure size 640x480 with 1 Axes>"
      ]
     },
     "metadata": {},
     "output_type": "display_data"
    }
   ],
   "source": [
    "plt.figure()\n",
    "for key in history.history.keys():\n",
    "    plt.plot(history.epoch, history.history[key], label=key)\n",
    "plt.legend()\n",
    "plt.tight_layout()"
   ]
  },
  {
   "cell_type": "markdown",
   "metadata": {},
   "source": [
    "# Beware that ANN are prone to overfitting!\n",
    "\n",
    "### How does overfit look like?\n",
    "* Y axis = Accuracy\n",
    "![overfit](https://github.com/rasvob/VSB-FEI-Deep-Learning-Exercises/blob/main/images/overfit_acc.png?raw=true \"Overfit\")"
   ]
  },
  {
   "cell_type": "markdown",
   "metadata": {},
   "source": [
    "# How can we solve the overfitting issue?\n",
    "\n",
    "### 1 - Use simpler model\n",
    "* The model often overfit because there is a lot of parameters for the amount of input data\n",
    "\n",
    "### 2 - Use Dropout layer\n",
    "- Node sampling instead of edge sampling \n",
    "- If a node is dropped, then all incoming and outgoing connections from that node need to be dropped as well\n",
    "- We sample sub-networks from the original one - basically ensemble of networks\n",
    "- There won't be some \"alpha\" node in the individual layer with huge weight coefficient\n",
    "    - Responsibility for prediction will be shared among multiple nodes\n",
    "\n",
    "![dropout](https://github.com/rasvob/2020-21-ARD/raw/master/images/dropout.jpeg \"Dropout\")\n",
    "\n",
    "## Keras API\n",
    "- keras.layers.Dropout(0.5)"
   ]
  },
  {
   "cell_type": "markdown",
   "metadata": {
    "id": "O3hqCxJ8jdML"
   },
   "source": [
    "## Beware that the best weights needs to be loaded after the training is finished!\n",
    "* **Otherwise you use the weights from the last epoch!**"
   ]
  },
  {
   "cell_type": "code",
   "execution_count": 46,
   "metadata": {
    "id": "rkuf66s5jdML",
    "tags": []
   },
   "outputs": [],
   "source": [
    "model.load_weights(\"weights.best.hdf5\")"
   ]
  },
  {
   "cell_type": "markdown",
   "metadata": {},
   "source": [
    "## Now we can use *evaluate()* function for obtaining the accuracy using the test set"
   ]
  },
  {
   "cell_type": "markdown",
   "metadata": {
    "tags": []
   },
   "source": [
    "![meme02](https://github.com/rasvob/VSB-FEI-Deep-Learning-Exercises/blob/main/images/dl_meme_02.jpg?raw=true \"AI Meme 02\")"
   ]
  },
  {
   "cell_type": "code",
   "execution_count": 47,
   "metadata": {
    "id": "x0QAkwi7jdMM",
    "tags": []
   },
   "outputs": [
    {
     "name": "stdout",
     "output_type": "stream",
     "text": [
      "313/313 [==============================] - 1s 3ms/step - loss: 0.2054 - accuracy: 0.9418\n",
      "Test accuracy:  0.9417999982833862\n"
     ]
    }
   ],
   "source": [
    "test_loss, test_acc = model.evaluate(x_test, y_test)\n",
    "print('Test accuracy: ', test_acc)"
   ]
  },
  {
   "cell_type": "markdown",
   "metadata": {},
   "source": [
    "# Can we obtain the labels and use it for our own evaluation without Keras? Sure!"
   ]
  },
  {
   "cell_type": "markdown",
   "metadata": {},
   "source": [
    "## We will obtain the raw softmax outputs\n",
    "* What is the range of the vector values?\n",
    "* Do they sum-up to some number?"
   ]
  },
  {
   "cell_type": "code",
   "execution_count": 48,
   "metadata": {
    "tags": []
   },
   "outputs": [
    {
     "name": "stdout",
     "output_type": "stream",
     "text": [
      "313/313 [==============================] - 1s 2ms/step\n"
     ]
    }
   ],
   "source": [
    "y_pred_proba = model.predict(x_test)"
   ]
  },
  {
   "cell_type": "code",
   "execution_count": 49,
   "metadata": {
    "tags": []
   },
   "outputs": [
    {
     "data": {
      "text/plain": [
       "array([1.39410522e-05, 6.80743018e-09, 6.14181103e-04, 3.06776469e-03,\n",
       "       1.61312357e-07, 6.21856816e-05, 1.33321598e-09, 9.95906591e-01,\n",
       "       1.36400995e-05, 3.21493921e-04], dtype=float32)"
      ]
     },
     "execution_count": 49,
     "metadata": {},
     "output_type": "execute_result"
    }
   ],
   "source": [
    "y_pred_proba[0]"
   ]
  },
  {
   "cell_type": "code",
   "execution_count": 50,
   "metadata": {
    "tags": []
   },
   "outputs": [
    {
     "data": {
      "text/plain": [
       "1.0"
      ]
     },
     "execution_count": 50,
     "metadata": {},
     "output_type": "execute_result"
    }
   ],
   "source": [
    "np.sum(y_pred_proba[0])"
   ]
  },
  {
   "cell_type": "markdown",
   "metadata": {},
   "source": [
    "## Now we can extract the index of the highest probability and get the labels"
   ]
  },
  {
   "cell_type": "code",
   "execution_count": 51,
   "metadata": {
    "tags": []
   },
   "outputs": [],
   "source": [
    "y_pred = np.argmax(y_pred_proba, axis=1)"
   ]
  },
  {
   "cell_type": "code",
   "execution_count": 52,
   "metadata": {
    "tags": []
   },
   "outputs": [
    {
     "data": {
      "text/plain": [
       "array([7, 2, 1, ..., 4, 5, 6])"
      ]
     },
     "execution_count": 52,
     "metadata": {},
     "output_type": "execute_result"
    }
   ],
   "source": [
    "y_pred"
   ]
  },
  {
   "cell_type": "markdown",
   "metadata": {
    "tags": []
   },
   "source": [
    "# Is the model any better than the ML baseline?"
   ]
  },
  {
   "cell_type": "code",
   "execution_count": 53,
   "metadata": {
    "tags": []
   },
   "outputs": [
    {
     "data": {
      "text/plain": [
       "0.9418"
      ]
     },
     "execution_count": 53,
     "metadata": {},
     "output_type": "execute_result"
    }
   ],
   "source": [
    "accuracy_score(y_true=y_test, y_pred=y_pred)"
   ]
  },
  {
   "cell_type": "markdown",
   "metadata": {},
   "source": [
    "# We can now re-build the same network using a Functional API\n",
    "* You can use any API that you like however I recomment the **Functional** one as it is more versatile, e.g. building ANN architecture with skip-connect synaptic links"
   ]
  },
  {
   "cell_type": "code",
   "execution_count": 54,
   "metadata": {
    "tags": []
   },
   "outputs": [
    {
     "name": "stdout",
     "output_type": "stream",
     "text": [
      "Model: \"model_4\"\n",
      "_________________________________________________________________\n",
      " Layer (type)                Output Shape              Param #   \n",
      "=================================================================\n",
      " input_5 (InputLayer)        [(None, 28, 28)]          0         \n",
      "                                                                 \n",
      " flatten_6 (Flatten)         (None, 784)               0         \n",
      "                                                                 \n",
      " dense_13 (Dense)            (None, 32)                25120     \n",
      "                                                                 \n",
      " dense_14 (Dense)            (None, 10)                330       \n",
      "                                                                 \n",
      "=================================================================\n",
      "Total params: 25,450\n",
      "Trainable params: 25,450\n",
      "Non-trainable params: 0\n",
      "_________________________________________________________________\n"
     ]
    }
   ],
   "source": [
    "ann_input = keras.layers.Input(shape=(28, 28))\n",
    "flatten = keras.layers.Flatten()(ann_input)\n",
    "hidden = keras.layers.Dense(32, activation=tf.nn.relu)(flatten)\n",
    "ann_output = keras.layers.Dense(10, activation=tf.nn.softmax)(hidden)\n",
    "\n",
    "model = keras.Model(ann_input, ann_output)\n",
    "\n",
    "model.compile(optimizer='adam',\n",
    "    loss = keras.losses.SparseCategoricalCrossentropy(from_logits=False),\n",
    "    metrics = ['accuracy'],\n",
    "    )\n",
    "\n",
    "model.summary()"
   ]
  },
  {
   "cell_type": "markdown",
   "metadata": {},
   "source": [
    "## The rest is the same"
   ]
  },
  {
   "cell_type": "code",
   "execution_count": 55,
   "metadata": {
    "tags": []
   },
   "outputs": [
    {
     "name": "stdout",
     "output_type": "stream",
     "text": [
      "Epoch 1/3\n",
      "375/375 [==============================] - 3s 5ms/step - loss: 0.5622 - accuracy: 0.8491 - val_loss: 0.2803 - val_accuracy: 0.9218\n",
      "Epoch 2/3\n",
      "375/375 [==============================] - 2s 4ms/step - loss: 0.2601 - accuracy: 0.9272 - val_loss: 0.2185 - val_accuracy: 0.9393\n",
      "Epoch 3/3\n",
      "375/375 [==============================] - 2s 4ms/step - loss: 0.2112 - accuracy: 0.9414 - val_loss: 0.1909 - val_accuracy: 0.9461\n",
      "313/313 [==============================] - 1s 3ms/step - loss: 0.1889 - accuracy: 0.9432\n",
      "Test accuracy:  0.9431999921798706\n"
     ]
    }
   ],
   "source": [
    "model_checkpoint_callback = tf.keras.callbacks.ModelCheckpoint(\n",
    "    filepath='weights.best.hdf5',\n",
    "    save_weights_only=True,\n",
    "    monitor='val_loss',\n",
    "    mode='auto',\n",
    "    save_best_only=True)\n",
    "\n",
    "history = model.fit(x_train, y_train, validation_split=0.2, epochs=3, callbacks=[model_checkpoint_callback], batch_size=128)\n",
    "model.load_weights(\"weights.best.hdf5\")\n",
    "\n",
    "test_loss, test_acc = model.evaluate(x_test, y_test)\n",
    "print('Test accuracy: ', test_acc)"
   ]
  },
  {
   "cell_type": "markdown",
   "metadata": {},
   "source": [
    "# Tasks for the rest of the lecture\n",
    "* Define your own architecture using either one of the showed API and try to beat the basic model (1p)\n",
    "* "
   ]
  },
  {
   "cell_type": "code",
   "execution_count": null,
   "metadata": {},
   "outputs": [],
   "source": []
  },
  {
   "cell_type": "code",
   "execution_count": null,
   "metadata": {},
   "outputs": [],
   "source": []
  },
  {
   "cell_type": "code",
   "execution_count": null,
   "metadata": {},
   "outputs": [],
   "source": []
  },
  {
   "cell_type": "markdown",
   "metadata": {
    "id": "0N0cmLbvjdMM"
   },
   "source": [
    "## Tasks for the rest of the lecture\n",
    "\n",
    "1. Investigate the quality of the model using validation sets.\n",
    "2. Limit the overfitting using the regularization and dropout.\n",
    "   1. L1 regularization (Lasso regression) - $\\lambda_1 \\sum_{i=0}^n \\left\\lvert w_i\\right\\rvert$\n",
    "   2. L2 regularization (Ridge regression) - $\\lambda_2 \\sum_{i=0}^n \\left\\lVert w_i\\right\\rVert$\n",
    "   3. Dropout\n",
    "3. Prepare its own model that will classifiy the test data with precision more than 98 percent (or give it a try at least :))."
   ]
  },
  {
   "cell_type": "markdown",
   "metadata": {
    "id": "xwK61DWNjdMM"
   },
   "source": [
    "# L1 and L2 regularization\n",
    "- Similiar technique in the regression algorithms\n",
    "- Usually loss-based approach (regularization norm is added to the loss function)\n",
    "- Enforce the training process to steer towards relatively “simple” weights, which may make your model more generic\n",
    "    - E.g. L1 - sparsity, correlation reduction - weights can be exactly 0\n",
    "    - L2 - weights will be relatively small numbers - no extremly huge number for one weight compared to the other ones - no exact 0 weights\n",
    "\n",
    "## How does overfit look like? (Accuracy POV)\n",
    "![overfit](https://github.com/rasvob/2020-21-ARD/raw/master/images/overfit_acc.png \"Overfit\")\n",
    "\n",
    "## Are there any other cases for regularization usage besides weights?\n",
    "## Is L1 or L2 reg. related to Dropout somehow?\n",
    "\n",
    "## Keras API\n",
    "- kernel_regularizer: weight reg.\n",
    "- bias_regularizer: bias reg.\n",
    "- activity_regularizer: layer's output reg.\n",
    "\n",
    "- E.g. tf.keras.layers.Dense(500, kernel_regularizer=tf.keras.regularizers.l1(0.01))\n",
    "\n",
    "# Dropout\n",
    "- Node sampling instead of edge sampling \n",
    "- If a node is dropped, then all incoming and outgoing connections from that node need to be dropped as well\n",
    "- We sample sub-networks from the original one - basically ensemble of networks\n",
    "- There won't be some \"alpha\" node in the individual layer with huge weight coefficient\n",
    "    - Responsibility for prediction will be shared among multiple nodes\n",
    "\n",
    "![dropout](https://github.com/rasvob/2020-21-ARD/raw/master/images/dropout.jpeg \"Dropout\")\n",
    "\n",
    "## Keras API\n",
    "- keras.layers.Dropout(0.5)"
   ]
  },
  {
   "cell_type": "code",
   "execution_count": null,
   "metadata": {},
   "outputs": [],
   "source": []
  }
 ],
 "metadata": {
  "accelerator": "GPU",
  "colab": {
   "collapsed_sections": [],
   "provenance": []
  },
  "file_extension": ".py",
  "kernelspec": {
   "display_name": "Python 3 (ipykernel)",
   "language": "python",
   "name": "python3"
  },
  "language_info": {
   "codemirror_mode": {
    "name": "ipython",
    "version": 3
   },
   "file_extension": ".py",
   "mimetype": "text/x-python",
   "name": "python",
   "nbconvert_exporter": "python",
   "pygments_lexer": "ipython3",
   "version": "3.10.9"
  },
  "mimetype": "text/x-python",
  "name": "python",
  "npconvert_exporter": "python",
  "pygments_lexer": "ipython3",
  "version": 3
 },
 "nbformat": 4,
 "nbformat_minor": 4
}
